{
 "cells": [
  {
   "cell_type": "code",
   "execution_count": 1,
   "metadata": {},
   "outputs": [],
   "source": [
    "# 1. Below are a set of scores that students have received in the past semester.\n",
    "# Write code to determine how many are 90 or above and assign that result to the value a_scores."
   ]
  },
  {
   "cell_type": "code",
   "execution_count": 2,
   "metadata": {},
   "outputs": [
    {
     "name": "stdout",
     "output_type": "stream",
     "text": [
      "10 students scored more than or equal to 90 marks in the past semester!\n"
     ]
    }
   ],
   "source": [
    "scores = \"67 80 90 78 93 20 79 89 96 97 92 88 79 68 58 90 98 100 79 74 83 88 80 86 85 70 90 100\"\n",
    "\n",
    "scores = scores.split()\n",
    "\n",
    "a_scores = 0\n",
    "\n",
    "for score in scores:\n",
    "    if int(score) >= 90:\n",
    "        a_scores += 1\n",
    "\n",
    "print(f\"{a_scores} students scored more than or equal to 90 marks in the past semester!\")\n"
   ]
  },
  {
   "cell_type": "code",
   "execution_count": 3,
   "metadata": {},
   "outputs": [],
   "source": [
    "# 2. Write code that uses the string stored in org and creates an acronym which is assigned to the variable acro.\n",
    "# Only the first letter of each word should be used, each letter in the acronym should be a capital letter, and there should be nothing to separate the letters of the acronym.\n",
    "# Words that should not be included in the acronym are stored in the list stopwords. \n",
    "# For example, if org was assigned the string “hello to world” then the resulting acronym should be “HW”."
   ]
  },
  {
   "cell_type": "code",
   "execution_count": 4,
   "metadata": {},
   "outputs": [
    {
     "name": "stdout",
     "output_type": "stream",
     "text": [
      "Name: The organization for health, safety, and education\n",
      "Acronym: OHSE\n"
     ]
    }
   ],
   "source": [
    "stopwords = ['to', 'a', 'for', 'by', 'an', 'am', 'the', 'so', 'it', 'and', \"The\"]\n",
    "org = \"The organization for health, safety, and education\"\n",
    "\n",
    "words = org.split()\n",
    "\n",
    "acro = \"\"\n",
    "\n",
    "for word in words:\n",
    "    if word not in stopwords:\n",
    "        acro += word[0].upper()\n",
    "\n",
    "print(f\"Name: {org}\")\n",
    "print(f\"Acronym: {acro}\")\n"
   ]
  },
  {
   "cell_type": "code",
   "execution_count": 5,
   "metadata": {},
   "outputs": [],
   "source": [
    "# 3. Write code that uses the string stored in sent and creates an acronym which is assigned to the variable acro.\n",
    "# The first two letters of each word should be used, each letter in the acronym should be a capital letter, and each element of the acronym should be separated by a “. ” (dot and space).\n",
    "# Words that should not be included in the acronym are stored in the list stopwords.\n",
    "# For example, if sent was assigned the string “height and ewok wonder” then the resulting acronym should be “HE. EW. WO”."
   ]
  },
  {
   "cell_type": "code",
   "execution_count": 6,
   "metadata": {},
   "outputs": [
    {
     "name": "stdout",
     "output_type": "stream",
     "text": [
      "Name: The water earth and air are vital\n",
      "Acronym: WA. EA. AI. VI\n"
     ]
    }
   ],
   "source": [
    "stopwords = ['to', 'a', 'for', 'by', 'an', 'am', 'the', 'so', 'it', 'and', 'The', 'are']\n",
    "sent = \"The water earth and air are vital\"\n",
    "\n",
    "words = sent.split()\n",
    "\n",
    "acro = \"\"\n",
    "\n",
    "for index, word in enumerate(words):\n",
    "    if word not in stopwords:\n",
    "        if index == (len(words) - 1):\n",
    "            acro += word[0].upper() + word[1].upper()\n",
    "        else:\n",
    "            acro += word[0].upper() + word[1].upper() + \". \"\n",
    "\n",
    "print(f\"Name: {sent}\")\n",
    "print(f\"Acronym: {acro}\")\n"
   ]
  },
  {
   "cell_type": "code",
   "execution_count": 7,
   "metadata": {},
   "outputs": [],
   "source": [
    "# 4. A palindrome is a phrase that, if reversed, would read the exact same.\n",
    "# Write code that checks if p_phrase is a palindrome by reversing it and then checking if the reversed version is equal to the original.\n",
    "# Assign the reversed version of p_phrase to the variable r_phrase so that we can check your work."
   ]
  },
  {
   "cell_type": "code",
   "execution_count": 8,
   "metadata": {},
   "outputs": [
    {
     "name": "stdout",
     "output_type": "stream",
     "text": [
      "\"was it a car or a cat I saw\" is a Palindrome!\n"
     ]
    }
   ],
   "source": [
    "p_phrase = \"was it a car or a cat I saw\"\n",
    "\n",
    "r_phrase = p_phrase[::-1]\n",
    "\n",
    "joined_p_phrase = \"\".join(p_phrase.split()).lower()\n",
    "\n",
    "joined_r_phrase = \"\".join(r_phrase.split()).lower()\n",
    "\n",
    "if joined_p_phrase == joined_r_phrase:\n",
    "    print(f\"\\\"{p_phrase}\\\" is a Palindrome!\")\n",
    "else:\n",
    "    print(f\"\\\"{p_phrase}\\\" is not a Palindrome!\")\n"
   ]
  },
  {
   "cell_type": "code",
   "execution_count": 9,
   "metadata": {},
   "outputs": [],
   "source": [
    "# 5. Provided is a list of data about a store’s inventory where each item in the list represents the name of an item, how much is in stock, and how much it costs.\n",
    "# Print out each item in the list with the same formatting, using the .format method (not string concatenation).\n",
    "# For example, the first print statment should read The store has 12 shoes, each for 29.99 USD."
   ]
  },
  {
   "cell_type": "code",
   "execution_count": 10,
   "metadata": {},
   "outputs": [
    {
     "name": "stdout",
     "output_type": "stream",
     "text": [
      "The store has 12 shoes, each for 29.99 USD.\n",
      "The store has 20 shirts, each for 9.99 USD.\n",
      "The store has 25 sweatpants, each for 15.00 USD.\n",
      "The store has 13 scarves, each for 7.75 USD.\n"
     ]
    }
   ],
   "source": [
    "inventory = [\"shoes, 12, 29.99\", \"shirts, 20, 9.99\", \"sweatpants, 25, 15.00\", \"scarves, 13, 7.75\"]\n",
    "\n",
    "for item in inventory:\n",
    "    product = item.split()\n",
    "\n",
    "    name = product[0][:-1]\n",
    "    quantity = product[1][:-1]\n",
    "    cost = product[2]\n",
    "\n",
    "    print(\"The store has {} {}, each for {} USD.\".format(quantity, name, cost))\n"
   ]
  },
  {
   "cell_type": "code",
   "execution_count": 11,
   "metadata": {},
   "outputs": [],
   "source": [
    "# 6. For each string in wrds, add ‘ed’ to the end of the word (to make the word past tense).\n",
    "# Save these past tense words to a list called past_wrds."
   ]
  },
  {
   "cell_type": "code",
   "execution_count": 12,
   "metadata": {},
   "outputs": [
    {
     "name": "stdout",
     "output_type": "stream",
     "text": [
      "1st Form: end   work   play   start   walk   look   open   rain   learn   clean   \n",
      "2nd Form: ended worked played started walked looked opened rained learned cleaned "
     ]
    }
   ],
   "source": [
    "wrds = [\"end\", 'work', \"play\", \"start\", \"walk\", \"look\", \"open\", \"rain\", \"learn\", \"clean\"]\n",
    "\n",
    "past_wrds = []\n",
    "\n",
    "for wrd in wrds:\n",
    "    past_wrds.append(wrd + \"ed\")\n",
    "\n",
    "print(\"1st Form: \", end=\"\")\n",
    "\n",
    "for wrd in wrds:\n",
    "    print(wrd + \"   \", end=\"\")\n",
    "\n",
    "print(\"\\n2nd Form: \", end=\"\")\n",
    "\n",
    "for wrd in past_wrds:\n",
    "    print(wrd + \" \", end=\"\")\n"
   ]
  },
  {
   "cell_type": "code",
   "execution_count": 13,
   "metadata": {},
   "outputs": [],
   "source": [
    "# 7. Write a function, test, that takes in three parameters: a required integer,\n",
    "# an optional boolean whose default value is True, and an optional dictionary,\n",
    "# called dict1, whose default value is {2:3, 4:5, 6:8}. If the boolean parameter is True,\n",
    "# the function should test to see if the integer is a key in the dictionary.\n",
    "# The value of that key should then be returned. If the boolean parameter is False, return the boolean value “False”."
   ]
  },
  {
   "cell_type": "code",
   "execution_count": 14,
   "metadata": {},
   "outputs": [
    {
     "name": "stdout",
     "output_type": "stream",
     "text": [
      "2\n"
     ]
    }
   ],
   "source": [
    "def test(number, to_check=True, dict1={2: 3, 4: 5, 6: 8}):\n",
    "    if to_check:\n",
    "        if number in dict1:\n",
    "            return number\n",
    "    else:\n",
    "        return False\n",
    "\n",
    "\n",
    "print(test(2))\n"
   ]
  },
  {
   "cell_type": "code",
   "execution_count": 15,
   "metadata": {},
   "outputs": [],
   "source": [
    "# 8. Write a function called checkingIfIn that takes three parameters.\n",
    "# The first is a required parameter, which should be a string.\n",
    "# The second is an optional parameter called direction with a default value of True.\n",
    "# The third is an optional parameter called d that has a default value of\n",
    "# {'apple': 2, 'pear': 1, 'fruit': 19, 'orange': 5, 'banana': 3, 'grapes': 2, 'watermelon': 7}.\n",
    "# Write the function checkingIfIn so that when the second parameter is True,\n",
    "# it checks to see if the first parameter is a key in the third parameter;\n",
    "# if it is, return True, otherwise return False.\n",
    "\n",
    "# But if the second paramter is False, then the function should check to see if the first parameter is not a key of the third.'\n",
    "# If it’s not, the function should return True in this case, and if it is, it should return False."
   ]
  },
  {
   "cell_type": "code",
   "execution_count": 16,
   "metadata": {},
   "outputs": [
    {
     "name": "stdout",
     "output_type": "stream",
     "text": [
      "True\n"
     ]
    }
   ],
   "source": [
    "def checking_if_in(fruit, direction=True,\n",
    "                   d={'apple': 2, 'pear': 1, 'fruit': 19, 'orange': 5, 'banana': 3, 'grapes': 2, 'watermelon': 7}):\n",
    "    try:\n",
    "        if fruit.isalpha():\n",
    "            if direction:\n",
    "                if fruit.lower() in d:\n",
    "                    return True\n",
    "                else:\n",
    "                    return False\n",
    "            else:\n",
    "                if fruit.lower() not in d:\n",
    "                    return True\n",
    "                else:\n",
    "                    return False\n",
    "        else:\n",
    "            print(f\"\\\"{fruit}\\\" is not a Valid String!\")\n",
    "    except AttributeError:\n",
    "        print(f\"\\\"{fruit}\\\" is not a Valid String!\")\n",
    "\n",
    "\n",
    "print(checking_if_in(\"apple\"))\n"
   ]
  },
  {
   "cell_type": "code",
   "execution_count": 17,
   "metadata": {},
   "outputs": [],
   "source": [
    "# 9. The textfile, travel_plans.txt, contains the summer travel plans for someone with some commentary.\n",
    "# Find the total number of characters in the file and save to the variable num."
   ]
  },
  {
   "cell_type": "code",
   "execution_count": 18,
   "metadata": {},
   "outputs": [
    {
     "name": "stdout",
     "output_type": "stream",
     "text": [
      "Total Characters: 1239\n"
     ]
    }
   ],
   "source": [
    "with open(\"travel_plans.txt\") as f:\n",
    "    num = len(f.read())\n",
    "    print(f\"Total Characters: {num}\")\n"
   ]
  },
  {
   "cell_type": "code",
   "execution_count": 19,
   "metadata": {},
   "outputs": [],
   "source": [
    "#10. Write code that will count the number of vowels in the sentence s and assign the result to the variable num_vowels.\n",
    "# For this problem, vowels are only a, e, i, o, and u. Hint: use the in operator with vowels."
   ]
  },
  {
   "cell_type": "code",
   "execution_count": 20,
   "metadata": {},
   "outputs": [
    {
     "name": "stdout",
     "output_type": "stream",
     "text": [
      "Total Vowels: 32\n"
     ]
    }
   ],
   "source": [
    "s = \"singing in the rain and playing in the rain are two entirely different situations but both can be fun\"\n",
    "vowels = ['a', 'e', 'i', 'o', 'u']\n",
    "\n",
    "num_vowels = 0\n",
    "\n",
    "for char in s:\n",
    "    if char in vowels:\n",
    "        num_vowels += 1\n",
    "\n",
    "print(f\"Total Vowels: {num_vowels}\")\n"
   ]
  },
  {
   "cell_type": "code",
   "execution_count": 21,
   "metadata": {},
   "outputs": [],
   "source": [
    "#11. rainfall_mi is a string that contains the average number of inches of rainfall in Michigan for every month (in inches) with every month separated by a comma.\n",
    "# Write code to compute the number of months that have more than 3 inches of rainfall.\n",
    "# Store the result in the variable num_rainy_months. In other words, count the number of items with values > 3.0.\n",
    "# Hard-coded answers will receive no credit."
   ]
  },
  {
   "cell_type": "code",
   "execution_count": 22,
   "metadata": {},
   "outputs": [
    {
     "name": "stdout",
     "output_type": "stream",
     "text": [
      "Rainy Months in Michigan: 5\n"
     ]
    }
   ],
   "source": [
    "rainfall_mi = \"January 3.3, February 2.1, March 1.2, April 3.5, May 3.1, June 2.6, July 2.9, August 3.6, September 2.2, October 2.9, November 2.7, December 3.3\"\n",
    "\n",
    "num_rainy_months = 0\n",
    "\n",
    "for rainfall in rainfall_mi.split(\", \"):\n",
    "    if float(rainfall.split()[1]) > 3.0:\n",
    "        num_rainy_months += 1\n",
    "\n",
    "print(f\"Rainy Months in Michigan: {num_rainy_months}\")\n"
   ]
  },
  {
   "cell_type": "code",
   "execution_count": 23,
   "metadata": {},
   "outputs": [],
   "source": [
    "#12. Write code that uses iteration to print out the length of each element of the list stored in str_list."
   ]
  },
  {
   "cell_type": "code",
   "execution_count": 24,
   "metadata": {},
   "outputs": [
    {
     "name": "stdout",
     "output_type": "stream",
     "text": [
      "Element 1 Length: 5\n",
      "Element 2 Length: 0\n",
      "Element 3 Length: 7\n",
      "Element 4 Length: 9\n",
      "Element 5 Length: 13\n"
     ]
    }
   ],
   "source": [
    "str_list = [\"hello\", \"\", \"goodbye\", \"wonderful\", \"I love Python\"]\n",
    "\n",
    "for index, item in enumerate(str_list):\n",
    "    print(f\"Element {index + 1} Length: {len(item)}\")\n"
   ]
  },
  {
   "cell_type": "code",
   "execution_count": 25,
   "metadata": {},
   "outputs": [],
   "source": [
    "#13. Write one for loop to print out each element of the list several_things.\n",
    "# Then, write another for loop to print out the TYPE of each element of the list several_things.\n",
    "# To complete this problem you should have written two different for loops,\n",
    "# each of which iterates over the list several_things, but each of those 2 for loops should have a different result."
   ]
  },
  {
   "cell_type": "code",
   "execution_count": 26,
   "metadata": {},
   "outputs": [
    {
     "name": "stdout",
     "output_type": "stream",
     "text": [
      "Elements: hello         2         4         6.0         7.5         234352354         the end                  99         \n",
      "Types:    <class 'str'>  <class 'int'>  <class 'int'>  <class 'float'>  <class 'float'>  <class 'int'>  <class 'str'>  <class 'str'>  <class 'int'>  "
     ]
    }
   ],
   "source": [
    "several_things = [\"hello\", 2, 4, 6.0, 7.5, 234352354, \"the end\", \"\", 99]\n",
    "\n",
    "print(\"Elements: \", end=\"\")\n",
    "for several_thing in several_things:\n",
    "    print(several_thing, \"        \", end=\"\")\n",
    "\n",
    "print(\"\\nTypes:    \", end=\"\")\n",
    "\n",
    "for several_thing in several_things:\n",
    "    print(type(several_thing), \" \", end=\"\")\n"
   ]
  },
  {
   "cell_type": "code",
   "execution_count": 27,
   "metadata": {},
   "outputs": [],
   "source": [
    "#14. Given below is a list of lists of athletes.\n",
    "# Create a list, t, that saves only the athlete’s name if it contains the letter “t”.\n",
    "# If it does not contain the letter “t”, save the athlete name into list other."
   ]
  },
  {
   "cell_type": "code",
   "execution_count": 28,
   "metadata": {},
   "outputs": [
    {
     "name": "stdout",
     "output_type": "stream",
     "text": [
      "With \"t\": Lochte Bolt Eaton Dalton \n",
      "Without \"t\": Phelps Schooling Ledecky Franklin Felix Gardner Biles Douglas Hamm Raisman Mikulak "
     ]
    }
   ],
   "source": [
    "athletes = [\n",
    "    ['Phelps', 'Lochte', 'Schooling', 'Ledecky', 'Franklin'],\n",
    "    ['Felix', 'Bolt', 'Gardner', 'Eaton'],\n",
    "    ['Biles', 'Douglas', 'Hamm', 'Raisman', 'Mikulak', 'Dalton']\n",
    "]\n",
    "\n",
    "t = []\n",
    "other = []\n",
    "\n",
    "for athlete in athletes:\n",
    "    for name in athlete:\n",
    "        if \"t\" in name:\n",
    "            t.append(name)\n",
    "        else:\n",
    "            other.append(name)\n",
    "\n",
    "print(\"With \\\"t\\\": \", end=\"\")\n",
    "\n",
    "for name in t:\n",
    "    print(name + \" \", end=\"\")\n",
    "\n",
    "print(\"\\nWithout \\\"t\\\": \", end=\"\")\n",
    "\n",
    "for name in other:\n",
    "    print(name + \" \", end=\"\")\n"
   ]
  },
  {
   "cell_type": "code",
   "execution_count": 29,
   "metadata": {},
   "outputs": [],
   "source": [
    "#15. Below, we have provided a list of tuples that contain students names and their final grades in PYTHON 101.\n",
    "# Using list comprehension, create a new list passed that contains the names of students who passed the class\n",
    "# (had a final grade of 70 or greater)."
   ]
  },
  {
   "cell_type": "code",
   "execution_count": 30,
   "metadata": {},
   "outputs": [
    {
     "name": "stdout",
     "output_type": "stream",
     "text": [
      "Passed Students: Tommy Carl Bob Sue "
     ]
    }
   ],
   "source": [
    "students = [('Tommy', 95), ('Linda', 63), ('Carl', 70), ('Bob', 100), ('Raymond', 50), ('Sue', 75)]\n",
    "\n",
    "passed_students = [student[0] for student in students if student[1] >= 70]\n",
    "\n",
    "print(\"Passed Students: \", end=\"\")\n",
    "\n",
    "for student in passed_students:\n",
    "    print(student + \" \", end=\"\")\n"
   ]
  }
 ],
 "metadata": {
  "kernelspec": {
   "display_name": "Python 3",
   "language": "python",
   "name": "python3"
  },
  "language_info": {
   "codemirror_mode": {
    "name": "ipython",
    "version": 3
   },
   "file_extension": ".py",
   "mimetype": "text/x-python",
   "name": "python",
   "nbconvert_exporter": "python",
   "pygments_lexer": "ipython3",
   "version": "3.7.3"
  }
 },
 "nbformat": 4,
 "nbformat_minor": 2
}
