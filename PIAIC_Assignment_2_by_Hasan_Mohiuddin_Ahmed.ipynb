{
 "cells": [
  {
   "cell_type": "code",
   "execution_count": null,
   "metadata": {},
   "outputs": [],
   "source": [
    "tasks = [\"sehri\", \"sleep\", \"shower\", \"study\", \"iftaar\"]\n",
    "completed_tasks = []"
   ]
  },
  {
   "cell_type": "code",
   "execution_count": null,
   "metadata": {},
   "outputs": [],
   "source": [
    "print(\"Enter q to Quit!\")\n",
    "\n",
    "while len(tasks) > 0:\n",
    "    work_to_do = input(\"\\nEnter a work to do: \")\n",
    "    work_to_do = work_to_do.lower()\n",
    "    \n",
    "    if work_to_do == \"q\":\n",
    "        print(\"\\n\\tTHANK YOU!\\n\")\n",
    "        print(f\"Completed Tasks: {completed_tasks}\")\n",
    "        print(f\"Remaining Tasks: {tasks}\")\n",
    "        break\n",
    "    elif work_to_do in tasks:\n",
    "        index = tasks.index(work_to_do)\n",
    "        task = tasks.pop(index)\n",
    "        completed_tasks.append(task)\n",
    "    else:\n",
    "        print(\"\\nThis task is not in the todo list!\")\n",
    "\n",
    "if len(tasks) == 0:\n",
    "    print(\"\\nNow your list is empty!\")"
   ]
  }
 ],
 "metadata": {
  "kernelspec": {
   "display_name": "Python 3",
   "language": "python",
   "name": "python3"
  },
  "language_info": {
   "codemirror_mode": {
    "name": "ipython",
    "version": 3
   },
   "file_extension": ".py",
   "mimetype": "text/x-python",
   "name": "python",
   "nbconvert_exporter": "python",
   "pygments_lexer": "ipython3",
   "version": "3.7.3"
  }
 },
 "nbformat": 4,
 "nbformat_minor": 2
}
