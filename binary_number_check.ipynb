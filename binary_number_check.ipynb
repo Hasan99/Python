{
 "cells": [
  {
   "cell_type": "code",
   "execution_count": 1,
   "metadata": {},
   "outputs": [
    {
     "name": "stdout",
     "output_type": "stream",
     "text": [
      "Enter String: 10100011\n",
      "Valid Input!\n"
     ]
    }
   ],
   "source": [
    "word = input(\"Enter String: \")\n",
    "count_dots = 0\n",
    "flag = False\n",
    "\n",
    "if len(word) >= 2 and len(word) <= 8:\n",
    "    if str.isdecimal(word) or str.isnumeric(word) or str.isdigit(word) or word[0] == \"0\" or word[0] == \"1\":\n",
    "        for w in word:\n",
    "            if w == \".\":\n",
    "                count_dots += 1\n",
    "            if count_dots > 1:\n",
    "                print(\"Invalid Input!\\nMore than 1 dot exists!\")\n",
    "                flag = False\n",
    "                break\n",
    "            if w == \"0\" or w == \"1\" or w == \".\":\n",
    "                flag = True\n",
    "            else:\n",
    "                flag = False\n",
    "                print(\"Invalid Input!\\n Only Zeros and Ones are allowed!\")\n",
    "                break\n",
    "    else:\n",
    "        print(\"Invalid!\")\n",
    "else:\n",
    "    print(\"Not Reasonable!\")\n",
    "\n",
    "if flag:\n",
    "    print(\"Valid Input!\")\n"
   ]
  }
 ],
 "metadata": {
  "kernelspec": {
   "display_name": "Python 3",
   "language": "python",
   "name": "python3"
  },
  "language_info": {
   "codemirror_mode": {
    "name": "ipython",
    "version": 3
   },
   "file_extension": ".py",
   "mimetype": "text/x-python",
   "name": "python",
   "nbconvert_exporter": "python",
   "pygments_lexer": "ipython3",
   "version": "3.7.3"
  }
 },
 "nbformat": 4,
 "nbformat_minor": 2
}
