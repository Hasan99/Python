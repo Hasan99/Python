{
 "cells": [
  {
   "cell_type": "code",
   "execution_count": 3,
   "metadata": {},
   "outputs": [
    {
     "name": "stdout",
     "output_type": "stream",
     "text": [
      "Enter sentence: artificial intelligence\n",
      "\n",
      "Spaces = 1\n",
      "a  =  2\n",
      "b  =  0\n",
      "c  =  2\n",
      "d  =  0\n",
      "e  =  3\n",
      "f  =  1\n",
      "g  =  1\n",
      "h  =  0\n",
      "i  =  5\n",
      "j  =  0\n",
      "k  =  0\n",
      "l  =  3\n",
      "m  =  0\n",
      "n  =  2\n",
      "o  =  0\n",
      "p  =  0\n",
      "q  =  0\n",
      "r  =  1\n",
      "s  =  0\n",
      "t  =  2\n",
      "u  =  0\n",
      "v  =  0\n",
      "w  =  0\n",
      "x  =  0\n",
      "y  =  0\n",
      "z  =  0\n"
     ]
    }
   ],
   "source": [
    "sentence = input(\"Enter sentence: \")\n",
    "sentence = sentence.upper()\n",
    "\n",
    "alphabets = list(\"abcdefghijklmnopqrstuvwxyz\")\n",
    "numbers = list(range(65, 91))\n",
    "alpha_count = [0 for _ in range(26)]\n",
    "space_count = 0\n",
    "\n",
    "for letter in sentence:\n",
    "    letter_number = ord(letter)\n",
    "    if letter == \" \":\n",
    "        space_count += 1\n",
    "    elif ord(letter) >= 65 and ord(letter) <= 90:\n",
    "        for i in range(26):\n",
    "            if letter_number == numbers[i]:\n",
    "                alpha_count[i] += 1\n",
    "                break\n",
    "\n",
    "print(\"\\nSpaces = \", space_count, sep=\"\")\n",
    "\n",
    "for i in range(26):\n",
    "    print(alphabets[i], \" = \", alpha_count[i])\n"
   ]
  }
 ],
 "metadata": {
  "kernelspec": {
   "display_name": "Python 3",
   "language": "python",
   "name": "python3"
  },
  "language_info": {
   "codemirror_mode": {
    "name": "ipython",
    "version": 3
   },
   "file_extension": ".py",
   "mimetype": "text/x-python",
   "name": "python",
   "nbconvert_exporter": "python",
   "pygments_lexer": "ipython3",
   "version": "3.7.3"
  }
 },
 "nbformat": 4,
 "nbformat_minor": 2
}
