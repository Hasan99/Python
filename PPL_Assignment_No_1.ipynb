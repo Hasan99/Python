{
 "cells": [
  {
   "cell_type": "code",
   "execution_count": 1,
   "metadata": {},
   "outputs": [
    {
     "name": "stdout",
     "output_type": "stream",
     "text": [
      "Twinkle, twinkle, little star,\n",
      "\tHow I wonder what you are!\n",
      "\t\tUp above the world so high,\n",
      "\t\tLike a diamond in the sky.\n",
      "Twinkle, twinkle, little star,\n",
      "\tHow I wonder what you are\n"
     ]
    }
   ],
   "source": [
    "# 1. Write a Python program to print the following string in a specific format\n",
    "# (see the output).\n",
    "\n",
    "# Twinkle, twinkle, little star,\n",
    "# How I wonder what you are!\n",
    "# Up above the world so high,\n",
    "# Like a diamond in the sky.\n",
    "\n",
    "# Twinkle, twinkle, little star,\n",
    "# How I wonder what you are\n",
    "\n",
    "print(\"Twinkle, twinkle, little star,\\n\\tHow I wonder what you are!\\n\\t\\tUp above the world so high,\\n\\t\\tLike a diamond in the sky.\\nTwinkle, twinkle, little star,\\n\\tHow I wonder what you are\")"
   ]
  },
  {
   "cell_type": "code",
   "execution_count": 4,
   "metadata": {},
   "outputs": [
    {
     "name": "stdout",
     "output_type": "stream",
     "text": [
      "Python Version that I am using is: 3.7.3 (default, Apr 24 2019, 15:29:51) [MSC v.1915 64 bit (AMD64)]\n"
     ]
    }
   ],
   "source": [
    "# 2. Write a Python program to get the Python version you are using\n",
    "\n",
    "import sys\n",
    "\n",
    "print(\"Python Version that I am using is:\", sys.version)"
   ]
  },
  {
   "cell_type": "code",
   "execution_count": 13,
   "metadata": {},
   "outputs": [
    {
     "name": "stdout",
     "output_type": "stream",
     "text": [
      "Date: 01/11/2019\n",
      "Time: 09:08:46 PM\n"
     ]
    }
   ],
   "source": [
    "# 3. Write a Python program to display the current date and time.\n",
    "\n",
    "import datetime as dt\n",
    "\n",
    "date_and_time = dt.datetime.now()\n",
    "\n",
    "print(\"Date:\", date_and_time.strftime(\"%d/%m/%Y\"))\n",
    "print(\"Time:\", date_and_time.strftime(\"%I:%M:%S %p\"))"
   ]
  },
  {
   "cell_type": "code",
   "execution_count": 16,
   "metadata": {},
   "outputs": [
    {
     "name": "stdout",
     "output_type": "stream",
     "text": [
      "Enter radius of circle: 2\n",
      "Area = 12.57\n"
     ]
    }
   ],
   "source": [
    "# 4. Write a Python program which accepts the radius of a circle from the user\n",
    "# and compute the area.\n",
    "\n",
    "radius = float(input(\"Enter radius of circle: \"))\n",
    "\n",
    "area = (22 / 7) * radius ** 2\n",
    "\n",
    "print(\"Area =\", round(area, 2))"
   ]
  },
  {
   "cell_type": "code",
   "execution_count": 20,
   "metadata": {},
   "outputs": [
    {
     "name": "stdout",
     "output_type": "stream",
     "text": [
      "Enter first name: Hasan\n",
      "Enter last name: Ahmed\n",
      "\n",
      "Reverse Order: Ahmed Hasan\n"
     ]
    }
   ],
   "source": [
    "# 5. Write a Python program which accepts the user's first and last name and\n",
    "# print them in reverse order with a space between them.\n",
    "\n",
    "first_name = input(\"Enter first name: \")\n",
    "last_name = input(\"Enter last name: \")\n",
    "\n",
    "print(\"\\nReverse Order: \" + last_name + \" \" + first_name)"
   ]
  },
  {
   "cell_type": "code",
   "execution_count": 22,
   "metadata": {},
   "outputs": [
    {
     "name": "stdout",
     "output_type": "stream",
     "text": [
      "Enter Number 1: 1\n",
      "Enter Number 2: 2\n",
      "\n",
      "1.0 + 2.0 = 3.0\n"
     ]
    }
   ],
   "source": [
    "# 6. Write a python program which takes two inputs from user and print them\n",
    "# addition\n",
    "\n",
    "num1 = float(input(\"Enter Number 1: \"))\n",
    "num2 = float(input(\"Enter Number 2: \"))\n",
    "\n",
    "ans = num1 + num2\n",
    "\n",
    "print(f\"\\n{num1} + {num2} = {ans}\")"
   ]
  }
 ],
 "metadata": {
  "kernelspec": {
   "display_name": "Python 3",
   "language": "python",
   "name": "python3"
  },
  "language_info": {
   "codemirror_mode": {
    "name": "ipython",
    "version": 3
   },
   "file_extension": ".py",
   "mimetype": "text/x-python",
   "name": "python",
   "nbconvert_exporter": "python",
   "pygments_lexer": "ipython3",
   "version": "3.7.3"
  }
 },
 "nbformat": 4,
 "nbformat_minor": 2
}
